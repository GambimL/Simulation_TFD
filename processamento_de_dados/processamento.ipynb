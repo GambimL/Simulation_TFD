{
 "cells": [
  {
   "cell_type": "code",
   "execution_count": 1,
   "metadata": {},
   "outputs": [],
   "source": [
    "import pandas as pd \n",
    "import numpy as np\n",
    "import matplotlib.pyplot as plt\n",
    "import matplotlib.colors as colors\n",
    "import matplotlib as mpl\n",
    "from matplotlib.colors import ListedColormap\n",
    "from matplotlib.patches import Rectangle\n",
    "from matplotlib.collections import LineCollection"
   ]
  },
  {
   "cell_type": "code",
   "execution_count": 35,
   "metadata": {},
   "outputs": [
    {
     "data": {
      "text/html": "<div>\n<style scoped>\n    .dataframe tbody tr th:only-of-type {\n        vertical-align: middle;\n    }\n\n    .dataframe tbody tr th {\n        vertical-align: top;\n    }\n\n    .dataframe thead th {\n        text-align: right;\n    }\n</style>\n<table border=\"1\" class=\"dataframe\">\n  <thead>\n    <tr style=\"text-align: right;\">\n      <th></th>\n      <th>ix</th>\n      <th>iy</th>\n      <th>iz</th>\n      <th>Fluxo</th>\n    </tr>\n  </thead>\n  <tbody>\n    <tr>\n      <th>0</th>\n      <td>0</td>\n      <td>0</td>\n      <td>0</td>\n      <td>0</td>\n    </tr>\n    <tr>\n      <th>1</th>\n      <td>1</td>\n      <td>0</td>\n      <td>0</td>\n      <td>0</td>\n    </tr>\n    <tr>\n      <th>2</th>\n      <td>2</td>\n      <td>0</td>\n      <td>0</td>\n      <td>0</td>\n    </tr>\n    <tr>\n      <th>3</th>\n      <td>3</td>\n      <td>0</td>\n      <td>0</td>\n      <td>0</td>\n    </tr>\n    <tr>\n      <th>4</th>\n      <td>4</td>\n      <td>0</td>\n      <td>0</td>\n      <td>0</td>\n    </tr>\n    <tr>\n      <th>...</th>\n      <td>...</td>\n      <td>...</td>\n      <td>...</td>\n      <td>...</td>\n    </tr>\n    <tr>\n      <th>983035</th>\n      <td>123</td>\n      <td>127</td>\n      <td>59</td>\n      <td>0</td>\n    </tr>\n    <tr>\n      <th>983036</th>\n      <td>124</td>\n      <td>127</td>\n      <td>59</td>\n      <td>0</td>\n    </tr>\n    <tr>\n      <th>983037</th>\n      <td>125</td>\n      <td>127</td>\n      <td>59</td>\n      <td>0</td>\n    </tr>\n    <tr>\n      <th>983038</th>\n      <td>126</td>\n      <td>127</td>\n      <td>59</td>\n      <td>0</td>\n    </tr>\n    <tr>\n      <th>983039</th>\n      <td>127</td>\n      <td>127</td>\n      <td>59</td>\n      <td>0</td>\n    </tr>\n  </tbody>\n</table>\n<p>983040 rows × 4 columns</p>\n</div>",
      "text/plain": "         ix   iy  iz  Fluxo\n0         0    0   0      0\n1         1    0   0      0\n2         2    0   0      0\n3         3    0   0      0\n4         4    0   0      0\n...     ...  ...  ..    ...\n983035  123  127  59      0\n983036  124  127  59      0\n983037  125  127  59      0\n983038  126  127  59      0\n983039  127  127  59      0\n\n[983040 rows x 4 columns]"
     },
     "execution_count": 35,
     "metadata": {},
     "output_type": "execute_result"
    }
   ],
   "source": [
    "fluencia = pd.read_csv('totED.csv', sep = ';')\n",
    "fluencia"
   ]
  },
  {
   "cell_type": "code",
   "execution_count": 36,
   "metadata": {},
   "outputs": [],
   "source": [
    "metade = [64]\n",
    "falseortrue = fluencia['ix'].isin(metade)\n",
    "fluenciaem16 = fluencia[falseortrue]"
   ]
  },
  {
   "cell_type": "code",
   "execution_count": 37,
   "metadata": {},
   "outputs": [
    {
     "name": "stderr",
     "output_type": "stream",
     "text": [
      "/tmp/ipykernel_777426/1023957602.py:13: FutureWarning: Calling float on a single element Series is deprecated and will raise a TypeError in the future. Use float(ser.iloc[0]) instead\n",
      "  data[k,i] = fluenciaem16zy['Fluxo']\n"
     ]
    },
    {
     "data": {
      "text/plain": "array([[0., 0., 0., ..., 0., 0., 0.],\n       [0., 0., 0., ..., 0., 0., 0.],\n       [0., 0., 0., ..., 0., 0., 0.],\n       ...,\n       [0., 0., 0., ..., 0., 0., 0.],\n       [0., 0., 0., ..., 0., 0., 0.],\n       [0., 0., 0., ..., 0., 0., 0.]])"
     },
     "execution_count": 37,
     "metadata": {},
     "output_type": "execute_result"
    }
   ],
   "source": [
    "data = np.zeros((128, 60))\n",
    "\n",
    "for i in range(60):\n",
    "\n",
    "  iteradorz = [i]\n",
    "  fotz = fluenciaem16['iz'].isin(iteradorz)\n",
    "  fluenciaem16z = fluenciaem16[fotz]\n",
    "\n",
    "  for k in range(128):\n",
    "    iteradory = [k]\n",
    "    foty = fluenciaem16z['iy'].isin(iteradory)\n",
    "    fluenciaem16zy = fluenciaem16z[foty]\n",
    "    data[k,i] = fluenciaem16zy['Fluxo']\n",
    "\n",
    "data\n",
    "\n"
   ]
  },
  {
   "cell_type": "code",
   "execution_count": 38,
   "metadata": {},
   "outputs": [
    {
     "name": "stderr",
     "output_type": "stream",
     "text": [
      "/tmp/ipykernel_777426/372867810.py:1: RuntimeWarning: invalid value encountered in divide\n",
      "  datan = data/data.max()\n"
     ]
    },
    {
     "data": {
      "text/plain": "<matplotlib.colorbar.Colorbar at 0x7f3437a92c50>"
     },
     "execution_count": 38,
     "metadata": {},
     "output_type": "execute_result"
    },
    {
     "data": {
      "image/png": "[encoded data removed]",
      "text/plain": "<Figure size 640x480 with 2 Axes>"
     },
     "metadata": {
      "transient": {}
     },
     "output_type": "display_data"
    }
   ],
   "source": [
    "datan = data/data.max()\n",
    "datan =  np.transpose(datan)\n",
    "jetmd = mpl.colormaps['jet']\n",
    "newcmp = ListedColormap(jetmd(np.linspace(0.09, 1.40, 300)))\n",
    "\n",
    "a = colors.LogNorm(vmin=1.e-8, vmax=1)\n",
    "fig, ax = plt.subplots()\n",
    "im = ax.imshow(datan, cmap=newcmp, norm=a, extent=(-16,16,15.5,0))\n",
    "fig.colorbar(im, ax=ax, label='Fluence', extend='both')"
   ]
  }
 ],
 "metadata": {
  "kernelspec": {
   "display_name": "Python 3.10.6 64-bit",
   "metadata": {
    "interpreter": {
     "hash": "916dbcbb3f70747c44a77c7bcd40155683ae19c65e1c03b4aa3499c5328201f1"
    }
   },
   "name": "python3"
  },
  "language_info": {
   "codemirror_mode": {
    "name": "ipython",
    "version": 3
   },
   "file_extension": ".py",
   "mimetype": "text/x-python",
   "name": "python",
   "nbconvert_exporter": "python",
   "pygments_lexer": "ipython3",
   "version": "3.10.6"
  },
  "orig_nbformat": 2
 },
 "nbformat": 4,
 "nbformat_minor": 2
}